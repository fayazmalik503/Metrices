{
 "cells": [
  {
   "cell_type": "markdown",
   "source": [
    "'''https://github.com/ncoop57/cute_ranking''' # He created Module\n",
    "'''https://gist.github.com/bwhite/3726239''' #Manually Implemented using maths into code\n",
    "\n",
    "## 1. Mean Reciprocal Rank - mean_reciprocal_rank\n",
    "## 2. Relevancy Precision - r_precision\n",
    "## 3. Precision at K - precision_at_k\n",
    "## 4. Recall at K - recall_at_k\n",
    "## 5. F1 score at K - f1_score_at_k\n",
    "## 6. Average Precision - average_precision\n",
    "## 7. Mean Average Precision - mean_average_precision\n",
    "## 8. Discounted Cumulative Gain at K - dcg_at_k\n",
    "## 9. Normalized Discounted Cumulative Gain at K - ndcg_at_k\n",
    "## 10. Mean Rank - mean_rank\n",
    "## 11. Hit@k - hit_rate_at_k"
   ],
   "metadata": {
    "collapsed": false,
    "pycharm": {
     "name": "#%% md\n"
    }
   }
  },
  {
   "cell_type": "code",
   "execution_count": 6,
   "outputs": [],
   "source": [
    "# We use sklearn metrics module to calculate different matrices.\n",
    "import numpy as np\n",
    "from sklearn import metrics"
   ],
   "metadata": {
    "collapsed": false,
    "pycharm": {
     "name": "#%%\n"
    }
   }
  },
  {
   "cell_type": "code",
   "source": [
    "query_answers =  [[0, 0, 1], [0, 1, 0], [1, 0, 0]]\n",
    "MRR = metrics.accuracy_score(query_answers)"
   ],
   "metadata": {
    "collapsed": false,
    "pycharm": {
     "name": "#%%\n"
    }
   },
   "execution_count": 7,
   "outputs": [
    {
     "ename": "TypeError",
     "evalue": "accuracy_score() missing 1 required positional argument: 'y_pred'",
     "output_type": "error",
     "traceback": [
      "\u001B[1;31m---------------------------------------------------------------------------\u001B[0m",
      "\u001B[1;31mTypeError\u001B[0m                                 Traceback (most recent call last)",
      "Input \u001B[1;32mIn [7]\u001B[0m, in \u001B[0;36m<cell line: 2>\u001B[1;34m()\u001B[0m\n\u001B[0;32m      1\u001B[0m query_answers \u001B[38;5;241m=\u001B[39m  [[\u001B[38;5;241m0\u001B[39m, \u001B[38;5;241m0\u001B[39m, \u001B[38;5;241m1\u001B[39m], [\u001B[38;5;241m0\u001B[39m, \u001B[38;5;241m1\u001B[39m, \u001B[38;5;241m0\u001B[39m], [\u001B[38;5;241m1\u001B[39m, \u001B[38;5;241m0\u001B[39m, \u001B[38;5;241m0\u001B[39m]]\n\u001B[1;32m----> 2\u001B[0m MRR \u001B[38;5;241m=\u001B[39m \u001B[43mmetrics\u001B[49m\u001B[38;5;241;43m.\u001B[39;49m\u001B[43maccuracy_score\u001B[49m\u001B[43m(\u001B[49m\u001B[43mquery_answers\u001B[49m\u001B[43m)\u001B[49m\n",
      "\u001B[1;31mTypeError\u001B[0m: accuracy_score() missing 1 required positional argument: 'y_pred'"
     ]
    }
   ]
  }
 ],
 "metadata": {
  "kernelspec": {
   "display_name": "Python 3 (ipykernel)",
   "language": "python",
   "name": "python3"
  },
  "language_info": {
   "codemirror_mode": {
    "name": "ipython",
    "version": 3
   },
   "file_extension": ".py",
   "mimetype": "text/x-python",
   "name": "python",
   "nbconvert_exporter": "python",
   "pygments_lexer": "ipython3",
   "version": "3.9.12"
  }
 },
 "nbformat": 4,
 "nbformat_minor": 5
}